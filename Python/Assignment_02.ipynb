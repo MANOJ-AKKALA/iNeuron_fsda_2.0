{
 "cells": [
  {
   "cell_type": "code",
   "execution_count": null,
   "id": "47bbd8c9",
   "metadata": {},
   "outputs": [],
   "source": [
    "1. What are the two values of the Boolean data type? How do you write them?\n",
    "Ans: In a general sense, anything that can take one of two possible values is considered a Boolean. \n",
    "    Examples include the data that can take values like \n",
    "    True or False, Yes or No, 0 or 1, On or Off, etc.\n",
    "As per the Python Syntax, True and False are considered as Boolean values.\n",
    "Notice that both start with a capital letter."
   ]
  },
  {
   "cell_type": "code",
   "execution_count": null,
   "id": "2d7ffe1f",
   "metadata": {},
   "outputs": [],
   "source": [
    "2. What are the three different types of Boolean operators?\n",
    "Ans: The three different types of Boolean operators are:\n",
    "\n",
    "AND operator: This operator is represented by the symbol \"&&\" or \"AND\" and returns true if both the operands are true.\n",
    "OR operator: This operator is represented by the symbol \"||\" or \"OR\" and returns true if at least one of the operands is true.\n",
    "NOT operator: This operator is represented by the symbol \"!\" or \"NOT\" and returns the opposite of the operand's value. For example, if the operand is true, the NOT operator will return false, and vice versa."
   ]
  },
  {
   "cell_type": "code",
   "execution_count": null,
   "id": "abf9d3cd",
   "metadata": {},
   "outputs": [],
   "source": [
    "3. Make a list of each Boolean operator's truth tables (i.e. every possible combination of Boolean\n",
    " values for the operator and what it evaluate ).\n",
    "Ans:\n",
    "    AND Operator:\n",
    "true AND true = true\n",
    "true AND false = false\n",
    "false AND true = false\n",
    "false AND false\t= false  \n",
    "\n",
    "    OR Operator:\n",
    "true OR true = true\n",
    "true OR false = true\n",
    "false OR true = true\n",
    "false OR false = false\n",
    "\n",
    "    NOT Operator:\n",
    "!true = false\n",
    "!false = true"
   ]
  },
  {
   "cell_type": "code",
   "execution_count": 2,
   "id": "a6f4ca6d",
   "metadata": {},
   "outputs": [
    {
     "data": {
      "text/plain": [
       "False"
      ]
     },
     "execution_count": 2,
     "metadata": {},
     "output_type": "execute_result"
    }
   ],
   "source": [
    "#4. What are the values of the following expressions?\n",
    "(5 > 4) and (3 == 5)"
   ]
  },
  {
   "cell_type": "code",
   "execution_count": 3,
   "id": "08a7bbe8",
   "metadata": {},
   "outputs": [
    {
     "data": {
      "text/plain": [
       "False"
      ]
     },
     "execution_count": 3,
     "metadata": {},
     "output_type": "execute_result"
    }
   ],
   "source": [
    "not (5 > 4)"
   ]
  },
  {
   "cell_type": "code",
   "execution_count": 4,
   "id": "5e0efc84",
   "metadata": {},
   "outputs": [
    {
     "data": {
      "text/plain": [
       "True"
      ]
     },
     "execution_count": 4,
     "metadata": {},
     "output_type": "execute_result"
    }
   ],
   "source": [
    "(5 > 4) or (3 == 5)"
   ]
  },
  {
   "cell_type": "code",
   "execution_count": 5,
   "id": "7fc545b2",
   "metadata": {},
   "outputs": [
    {
     "data": {
      "text/plain": [
       "False"
      ]
     },
     "execution_count": 5,
     "metadata": {},
     "output_type": "execute_result"
    }
   ],
   "source": [
    "not ((5 > 4) or (3 == 5))"
   ]
  },
  {
   "cell_type": "code",
   "execution_count": null,
   "id": "a5a2b3d4",
   "metadata": {},
   "outputs": [],
   "source": [
    "5. What are the six comparison operators?\n",
    "Ans:\n",
    "==\tEqual\tx == y\t\n",
    "!=\tNot equal\tx != y\t\n",
    ">\tGreater than\tx > y\t\n",
    "<\tLess than\tx < y\t\n",
    ">=\tGreater than or equal to\tx >= y\t\n",
    "<=\tLess than or equal to\tx <= y\t\n"
   ]
  },
  {
   "cell_type": "code",
   "execution_count": null,
   "id": "950c7f1b",
   "metadata": {},
   "outputs": [],
   "source": [
    "6. How do you tell the difference between the equal to and assignment operators?Describe a\n",
    "condition and when you would use one.\n",
    "Ans: The “=” is an assignment operator used to assign the value on the right to the variable on the left. \n",
    "        Ex: a = 10\n",
    "     The ‘==’ operator checks whether the two given operands are equal or not. \n",
    "     If so, it returns true. Otherwise it returns false. \n",
    "        5==5\n",
    "     This will return true.\n",
    "        "
   ]
  },
  {
   "cell_type": "code",
   "execution_count": 10,
   "id": "4f03b6e6",
   "metadata": {},
   "outputs": [
    {
     "name": "stdout",
     "output_type": "stream",
     "text": [
      "ham\n",
      "spam\n",
      "spam\n"
     ]
    }
   ],
   "source": [
    "#7. Identify the three blocks in this code:\n",
    "spam = 0\n",
    "if spam == 10:\n",
    "    print('eggs')   #block 01\n",
    "if spam > 5:\n",
    "    print('bacon')  #3lock 03\n",
    "else:\n",
    "    print('ham')    #block 03\n",
    "    print('spam')\n",
    "    print('spam')\n",
    "    "
   ]
  },
  {
   "cell_type": "code",
   "execution_count": 1,
   "id": "b3e30230",
   "metadata": {},
   "outputs": [
    {
     "name": "stdout",
     "output_type": "stream",
     "text": [
      "Input a no.3\n",
      "Greetings!\n"
     ]
    }
   ],
   "source": [
    "#8. Write code that prints Hello if 1 is stored in spam, prints Howdy if 2 is stored in spam, and prints\n",
    "#Greetings! if anything else is stored in spam.\n",
    "spam = int(input('Input a no.'))\n",
    "if spam == 1:\n",
    "    print('Hello')\n",
    "if spam == 2:\n",
    "    print('Howdy')\n",
    "else:\n",
    "    print('Greetings!')"
   ]
  },
  {
   "cell_type": "code",
   "execution_count": null,
   "id": "0f32f430",
   "metadata": {},
   "outputs": [],
   "source": [
    "9.If your programme is stuck in an endless loop, what keys you’ll press?\n",
    "Ans:  We can stop an infinite loop with CTRL + C"
   ]
  },
  {
   "cell_type": "code",
   "execution_count": null,
   "id": "26673574",
   "metadata": {},
   "outputs": [],
   "source": [
    "10. How can you tell the difference between break and continue?\n",
    "\n",
    "In Python, break and continue are two different control flow statements used inside loops. \n",
    "The main difference between them is that break is used to terminate the loop prematurely, \n",
    "while continue is used to skip the current iteration and move on to the next one.\n",
    "\n",
    "Here's an example to illustrate the difference:"
   ]
  },
  {
   "cell_type": "code",
   "execution_count": 3,
   "id": "3eef4788",
   "metadata": {},
   "outputs": [
    {
     "name": "stdout",
     "output_type": "stream",
     "text": [
      "1\n",
      "2\n",
      "3\n"
     ]
    }
   ],
   "source": [
    "# Using break inside a loop\n",
    "for i in range(1, 6):\n",
    "    if i == 4:\n",
    "        break\n",
    "    print(i)"
   ]
  },
  {
   "cell_type": "code",
   "execution_count": 4,
   "id": "d892a888",
   "metadata": {},
   "outputs": [
    {
     "name": "stdout",
     "output_type": "stream",
     "text": [
      "1\n",
      "2\n",
      "3\n",
      "5\n"
     ]
    }
   ],
   "source": [
    "# Using continue inside a loop\n",
    "for i in range(1, 6):\n",
    "    if i == 4:\n",
    "        continue\n",
    "    print(i)"
   ]
  },
  {
   "cell_type": "code",
   "execution_count": null,
   "id": "a9522aec",
   "metadata": {},
   "outputs": [],
   "source": [
    "11. In a for loop, what is the difference between range(10), range(0, 10), and range(0, 10, 1)?\n",
    "Ans:\n",
    "In Python, range() is a built-in function used to generate a sequence of numbers. \n",
    "It can be used in a for loop to iterate over a sequence of numbers.\n",
    "\n",
    "The three expressions range(10), range(0, 10), and range(0, 10, 1) all generate the same sequence of \n",
    "numbers from 0 to 9 (inclusive), but they have slightly different syntax.\n",
    "\n",
    "Here's what each of them means:\n",
    "range(10): This expression generates a sequence of numbers from 0 to 9 (inclusive) with a step size of 1.\n",
    "    The 10 inside the range() function specifies the upper limit of the sequence, \n",
    "    and since no lower limit is specified, it defaults to 0.\n",
    "\n",
    "range(0, 10): This expression generates a sequence of numbers from 0 to 9 (inclusive) with a step \n",
    "    size of 1. The two arguments inside the range() function specify the lower and \n",
    "    upper limits of the sequence, respectively.\n",
    "\n",
    "range(0, 10, 1): This expression generates a sequence of numbers from 0 to 9\n",
    "    (inclusive) with a step size of 1. The three arguments inside the range() \n",
    "    function specify the lower limit, upper limit, and step size of the sequence, respectively.\n",
    "\n",
    "In summary, all three expressions generate the same sequence of numbers, \n",
    "but the second and third expressions provide more explicit control over the \n",
    "lower limit and step size of the sequence."
   ]
  },
  {
   "cell_type": "code",
   "execution_count": 6,
   "id": "7324c237",
   "metadata": {},
   "outputs": [
    {
     "name": "stdout",
     "output_type": "stream",
     "text": [
      "0\n",
      "2\n",
      "4\n",
      "6\n",
      "8\n",
      "10\n",
      "12\n",
      "14\n",
      "16\n",
      "18\n"
     ]
    }
   ],
   "source": [
    "for i in range(0,20,2):\n",
    "    print(i)"
   ]
  },
  {
   "cell_type": "code",
   "execution_count": null,
   "id": "b5bfaa57",
   "metadata": {},
   "outputs": [],
   "source": [
    "12. Write a short program that prints the numbers 1 to 10 using a for loop. Then write an equivalent\n",
    "program that prints the numbers 1 to 10 using a while loop."
   ]
  },
  {
   "cell_type": "code",
   "execution_count": 7,
   "id": "70724aab",
   "metadata": {},
   "outputs": [
    {
     "name": "stdout",
     "output_type": "stream",
     "text": [
      "0\n",
      "1\n",
      "2\n",
      "3\n",
      "4\n",
      "5\n",
      "6\n",
      "7\n",
      "8\n",
      "9\n",
      "10\n"
     ]
    }
   ],
   "source": [
    "#for loop\n",
    "for i in range(0,11):\n",
    "    print(i)"
   ]
  },
  {
   "cell_type": "code",
   "execution_count": 8,
   "id": "72e9409e",
   "metadata": {
    "scrolled": true
   },
   "outputs": [
    {
     "name": "stdout",
     "output_type": "stream",
     "text": [
      "1\n",
      "2\n",
      "3\n",
      "4\n",
      "5\n",
      "6\n",
      "7\n",
      "8\n",
      "9\n",
      "10\n"
     ]
    }
   ],
   "source": [
    "#while loop\n",
    "i = 1\n",
    "while i < 11:\n",
    "  print(i)\n",
    "  i += 1"
   ]
  },
  {
   "cell_type": "code",
   "execution_count": null,
   "id": "ad2d4fa1",
   "metadata": {},
   "outputs": [],
   "source": [
    "13. If you had a function named bacon() inside a module named spam, how would you call it after\n",
    "importing spam?\n",
    "Ans: This function can be called with spam.bacon()."
   ]
  },
  {
   "cell_type": "code",
   "execution_count": null,
   "id": "11e25ef5",
   "metadata": {},
   "outputs": [],
   "source": []
  }
 ],
 "metadata": {
  "kernelspec": {
   "display_name": "Python 3 (ipykernel)",
   "language": "python",
   "name": "python3"
  },
  "language_info": {
   "codemirror_mode": {
    "name": "ipython",
    "version": 3
   },
   "file_extension": ".py",
   "mimetype": "text/x-python",
   "name": "python",
   "nbconvert_exporter": "python",
   "pygments_lexer": "ipython3",
   "version": "3.10.9"
  }
 },
 "nbformat": 4,
 "nbformat_minor": 5
}
