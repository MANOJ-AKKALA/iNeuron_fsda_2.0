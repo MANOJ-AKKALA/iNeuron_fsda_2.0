{
 "cells": [
  {
   "cell_type": "code",
   "execution_count": null,
   "id": "ef11f765",
   "metadata": {},
   "outputs": [],
   "source": [
    "1. What are escape characters, and how do you use them?\n",
    "Ans: Escape characters or sequences are illegal characters for Python and never get printed \n",
    "    as part of the output. When backslash is used in Python programming, \n",
    "    it allows the program to escape the next characters.\n",
    "    Ex: \\escape character  \\*,\\n "
   ]
  },
  {
   "cell_type": "code",
   "execution_count": null,
   "id": "b98d3fd8",
   "metadata": {},
   "outputs": [],
   "source": [
    "2. What do the escape characters n and t stand for?\n",
    "Ans: \\n - \tNew Line and \\t - tab"
   ]
  },
  {
   "cell_type": "code",
   "execution_count": null,
   "id": "892ba0dd",
   "metadata": {},
   "outputs": [],
   "source": [
    "3. What is the way to include backslash characters in a string?\n",
    "To insert characters that are illegal in a string, use an escape character.\n",
    "An escape character is a backslash \\ followed by the character you want to insert.\n",
    "An example of an illegal character is a double quote inside a string that is \n",
    "surrounded by double quotes\n",
    "Ex:txt = \"We are the so-called \\\"Vikings\\\" from the north.\"\n"
   ]
  },
  {
   "cell_type": "code",
   "execution_count": 1,
   "id": "32bd4ec8",
   "metadata": {},
   "outputs": [
    {
     "name": "stdout",
     "output_type": "stream",
     "text": [
      "We are the so-called \"Vikings\" from the north.\n"
     ]
    }
   ],
   "source": [
    "txt = \"We are the so-called \\\"Vikings\\\" from the north.\"\n",
    "\n",
    "print(txt)"
   ]
  },
  {
   "cell_type": "code",
   "execution_count": null,
   "id": "e1c72728",
   "metadata": {},
   "outputs": [],
   "source": [
    "4. The string \"Howl's Moving Castle\" is a correct value. Why isn't the single quote character in the\n",
    "word Howl's not escaped a problem?\n",
    "Ans:In Python it is possible to use double quotes (\") to denote strings, in which case a single quote \n",
    "    character within the string would not require escaping. \n",
    "For example, \"Howl's Moving Castle\" would be a valid string in a programming language that \n",
    "allows the use of double quotes to denote strings."
   ]
  },
  {
   "cell_type": "code",
   "execution_count": null,
   "id": "7a79209f",
   "metadata": {},
   "outputs": [],
   "source": [
    "5. How do you write a string of newlines if you don't want to use the n character?\n",
    "Ans: In order to print without newline in Python, you need to add an extra argument to your \n",
    "print function that will tell the program that you don’t want your \n",
    "next string to be on a new line."
   ]
  },
  {
   "cell_type": "code",
   "execution_count": 3,
   "id": "51f5f4b7",
   "metadata": {},
   "outputs": [
    {
     "name": "stdout",
     "output_type": "stream",
     "text": [
      "printing something in new line newline\n"
     ]
    }
   ],
   "source": [
    "print(\"printing something in new line\",end = \" \")\n",
    "print(\"newline\")"
   ]
  },
  {
   "cell_type": "code",
   "execution_count": null,
   "id": "b346dc0b",
   "metadata": {},
   "outputs": [],
   "source": [
    "6. What are the values of the given expressions?"
   ]
  },
  {
   "cell_type": "code",
   "execution_count": 8,
   "id": "cdc40774",
   "metadata": {},
   "outputs": [
    {
     "data": {
      "text/plain": [
       "'e'"
      ]
     },
     "execution_count": 8,
     "metadata": {},
     "output_type": "execute_result"
    }
   ],
   "source": [
    "'hello, world!'[1]\n"
   ]
  },
  {
   "cell_type": "code",
   "execution_count": 10,
   "id": "92821605",
   "metadata": {},
   "outputs": [
    {
     "data": {
      "text/plain": [
       "'hello'"
      ]
     },
     "execution_count": 10,
     "metadata": {},
     "output_type": "execute_result"
    }
   ],
   "source": [
    "'hello, world!'[0:5]\n"
   ]
  },
  {
   "cell_type": "code",
   "execution_count": 11,
   "id": "6be47d6c",
   "metadata": {},
   "outputs": [
    {
     "data": {
      "text/plain": [
       "'hello'"
      ]
     },
     "execution_count": 11,
     "metadata": {},
     "output_type": "execute_result"
    }
   ],
   "source": [
    "'hello, world!'[:5]\n"
   ]
  },
  {
   "cell_type": "code",
   "execution_count": 12,
   "id": "51cac79d",
   "metadata": {
    "scrolled": true
   },
   "outputs": [
    {
     "data": {
      "text/plain": [
       "'lo, world!'"
      ]
     },
     "execution_count": 12,
     "metadata": {},
     "output_type": "execute_result"
    }
   ],
   "source": [
    "'hello, world!'[3:]"
   ]
  },
  {
   "cell_type": "code",
   "execution_count": null,
   "id": "24f0b72d",
   "metadata": {},
   "outputs": [],
   "source": [
    "7. What are the values of the following expressions?"
   ]
  },
  {
   "cell_type": "code",
   "execution_count": 13,
   "id": "ebd6c4e0",
   "metadata": {},
   "outputs": [
    {
     "data": {
      "text/plain": [
       "'HELLO'"
      ]
     },
     "execution_count": 13,
     "metadata": {},
     "output_type": "execute_result"
    }
   ],
   "source": [
    "'hello'.upper()"
   ]
  },
  {
   "cell_type": "code",
   "execution_count": 14,
   "id": "1bcdbace",
   "metadata": {
    "scrolled": true
   },
   "outputs": [
    {
     "data": {
      "text/plain": [
       "True"
      ]
     },
     "execution_count": 14,
     "metadata": {},
     "output_type": "execute_result"
    }
   ],
   "source": [
    "'hello'.upper().isupper()"
   ]
  },
  {
   "cell_type": "code",
   "execution_count": 15,
   "id": "4d5c2088",
   "metadata": {
    "scrolled": true
   },
   "outputs": [
    {
     "data": {
      "text/plain": [
       "'hello'"
      ]
     },
     "execution_count": 15,
     "metadata": {},
     "output_type": "execute_result"
    }
   ],
   "source": [
    "'hello'.upper().lower()"
   ]
  },
  {
   "cell_type": "code",
   "execution_count": null,
   "id": "86496318",
   "metadata": {},
   "outputs": [],
   "source": [
    "8. What are the values of the following expressions?"
   ]
  },
  {
   "cell_type": "code",
   "execution_count": 16,
   "id": "91194f70",
   "metadata": {
    "scrolled": true
   },
   "outputs": [
    {
     "data": {
      "text/plain": [
       "['Remember,', 'remember,', 'the', 'fifth', 'of', 'july.']"
      ]
     },
     "execution_count": 16,
     "metadata": {},
     "output_type": "execute_result"
    }
   ],
   "source": [
    "'Remember, remember, the fifth of july.'.split()"
   ]
  },
  {
   "cell_type": "code",
   "execution_count": 18,
   "id": "10aea98e",
   "metadata": {},
   "outputs": [
    {
     "data": {
      "text/plain": [
       "['There', 'can', 'only', 'one.']"
      ]
     },
     "execution_count": 18,
     "metadata": {},
     "output_type": "execute_result"
    }
   ],
   "source": [
    "'There can only one.'.split()"
   ]
  },
  {
   "cell_type": "code",
   "execution_count": 17,
   "id": "33b36b5a",
   "metadata": {
    "scrolled": false
   },
   "outputs": [
    {
     "data": {
      "text/plain": [
       "'There-can-only-one.'"
      ]
     },
     "execution_count": 17,
     "metadata": {},
     "output_type": "execute_result"
    }
   ],
   "source": [
    "'-'.join('There can only one.'.split())"
   ]
  },
  {
   "cell_type": "code",
   "execution_count": null,
   "id": "5f279ca5",
   "metadata": {},
   "outputs": [],
   "source": [
    "9. What are the methods for right-justifying, left-justifying, and centering a string?\n",
    "Ans: We use the rjust(), center(), or ljust() methods \n",
    "    to right-justify, center, or left-justify strings str in Python. "
   ]
  },
  {
   "cell_type": "code",
   "execution_count": 24,
   "id": "ae62b8ae",
   "metadata": {
    "scrolled": true
   },
   "outputs": [
    {
     "name": "stdout",
     "output_type": "stream",
     "text": [
      "                 abc\n"
     ]
    }
   ],
   "source": [
    "s = 'abc'\n",
    "\n",
    "print(s.rjust(20))"
   ]
  },
  {
   "cell_type": "code",
   "execution_count": 23,
   "id": "1c37e841",
   "metadata": {
    "scrolled": true
   },
   "outputs": [
    {
     "name": "stdout",
     "output_type": "stream",
     "text": [
      "abc                 \n"
     ]
    }
   ],
   "source": [
    "print(s.ljust(20))"
   ]
  },
  {
   "cell_type": "code",
   "execution_count": 22,
   "id": "89497777",
   "metadata": {
    "scrolled": true
   },
   "outputs": [
    {
     "name": "stdout",
     "output_type": "stream",
     "text": [
      "        abc         \n"
     ]
    }
   ],
   "source": [
    "print(s.center(20))"
   ]
  },
  {
   "cell_type": "code",
   "execution_count": null,
   "id": "edec8b10",
   "metadata": {},
   "outputs": [],
   "source": [
    "10. What is the best way to remove whitespace characters from the start or end?\n",
    "Ans: Use the . strip() method to remove whitespace and characters from \n",
    "the beginning and the end of a string. \n",
    "\n",
    " lstrip() method to remove whitespace and characters only from the beginning of a string\n",
    " rstrip() method to remove whitespace and characters only from the end of a string"
   ]
  },
  {
   "cell_type": "code",
   "execution_count": null,
   "id": "71d7dbf7",
   "metadata": {},
   "outputs": [],
   "source": []
  }
 ],
 "metadata": {
  "kernelspec": {
   "display_name": "Python 3 (ipykernel)",
   "language": "python",
   "name": "python3"
  },
  "language_info": {
   "codemirror_mode": {
    "name": "ipython",
    "version": 3
   },
   "file_extension": ".py",
   "mimetype": "text/x-python",
   "name": "python",
   "nbconvert_exporter": "python",
   "pygments_lexer": "ipython3",
   "version": "3.10.9"
  }
 },
 "nbformat": 4,
 "nbformat_minor": 5
}
