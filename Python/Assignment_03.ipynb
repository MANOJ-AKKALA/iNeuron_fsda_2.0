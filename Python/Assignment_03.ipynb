{
 "cells": [
  {
   "cell_type": "code",
   "execution_count": null,
   "id": "9a71b8d9",
   "metadata": {},
   "outputs": [],
   "source": [
    "1. Why are functions advantageous to have in your programs?\n",
    "Ans: The use of functions makes a program more readable. \n",
    "    It's frequently difficult to read a large program. \n",
    "    Breaking the code down into smaller functions keeps the program structured, understandable, and reusable. \n",
    "    The function can be reused countless times after it is defined\n"
   ]
  },
  {
   "cell_type": "code",
   "execution_count": null,
   "id": "bf0961ce",
   "metadata": {},
   "outputs": [],
   "source": [
    "2. When does the code in a function run: when it's specified or when it's called?\n",
    "Ans: The code in a function executes when the function is called, not when the function is defined."
   ]
  },
  {
   "cell_type": "code",
   "execution_count": null,
   "id": "ab1e72c1",
   "metadata": {},
   "outputs": [],
   "source": [
    "3.What statement creates a function?\n",
    "Ans: In Python, you define a function with the def keyword, then write the function identifier (name) followed \n",
    "    by parentheses and a colon.We could put any code inside that function - one statement, multiple statements \n",
    "    depends on what we want to do."
   ]
  },
  {
   "cell_type": "code",
   "execution_count": null,
   "id": "8ece0105",
   "metadata": {},
   "outputs": [],
   "source": [
    "4. What is the difference between a function and a function call?\n",
    "Ans: A function is a piece of code which enhanced the reusability and modularity of your program. \n",
    "    It means that piece of code need not be written again. A function call means invoking or calling \n",
    "    that function. Unless a function is called there is no use of that function\n",
    "    "
   ]
  },
  {
   "cell_type": "code",
   "execution_count": 1,
   "id": "d993def6",
   "metadata": {},
   "outputs": [
    {
     "name": "stdout",
     "output_type": "stream",
     "text": [
      "300\n"
     ]
    }
   ],
   "source": [
    "def myfunc():\n",
    "  x = 300\n",
    "  print(x)\n",
    "\n",
    "myfunc()"
   ]
  },
  {
   "cell_type": "code",
   "execution_count": null,
   "id": "62379ff7",
   "metadata": {},
   "outputs": [],
   "source": [
    "5. How many global scopes are there in a Python program? How many local scopes?\n",
    "Ans: In a Python program, there is only one global scope, which is created when the program starts running. This global scope is accessible to all parts of the program, including any functions defined within the program.\n",
    "On the other hand, there can be multiple local scopes in a Python program, \n",
    "each of which is created when a function is called. These local scopes are only accessible \n",
    "within the function in which they are defined and are destroyed when the function returns.\n",
    "In addition to the global and local scopes, there is also a built-in scope in Python that \n",
    "contains names for built-in functions and exceptions. \n",
    "This scope is created when the program starts running and is accessible from any part of the program."
   ]
  },
  {
   "cell_type": "code",
   "execution_count": null,
   "id": "bbefc6e1",
   "metadata": {},
   "outputs": [],
   "source": [
    "6. What happens to variables in a local scope when the function call returns?\n",
    "Ans:  These local scopes are only accessible \n",
    "within the function in which they are defined and are destroyed when the function returns."
   ]
  },
  {
   "cell_type": "code",
   "execution_count": null,
   "id": "2853cdd1",
   "metadata": {},
   "outputs": [],
   "source": [
    "7. What is the concept of a return value? Is it possible to have a return value in an expression?\n",
    "Ans: The Python return statement is a special statement that you can use inside a \n",
    "function or method to send the function’s result back to the caller. \n",
    "A return statement consists of the return keyword followed by an optional return value."
   ]
  },
  {
   "cell_type": "code",
   "execution_count": null,
   "id": "29b03c37",
   "metadata": {},
   "outputs": [],
   "source": [
    "8. If a function does not have a return statement, what is the return value of a call to that function?\n",
    "Ans:Every function in Python returns something. \n",
    "    If the function doesn't have any return statement, then it returns None ."
   ]
  },
  {
   "cell_type": "code",
   "execution_count": null,
   "id": "7f289f8c",
   "metadata": {},
   "outputs": [],
   "source": [
    "9. How do you make a function variable refer to the global variable?\n",
    "Ans:If you want to refer to a global variable in a function, \n",
    "    you can use the \"global\" keyword to declare which variables are global."
   ]
  },
  {
   "cell_type": "code",
   "execution_count": null,
   "id": "869c6215",
   "metadata": {},
   "outputs": [],
   "source": [
    "10. What is the data type of None?\n",
    "Ans:The None keyword is used to define a null value, or no value at all.\n",
    "None is not the same as 0, False, or an empty string. \n",
    "None is a data type of its own (NoneType) and only None can be None."
   ]
  },
  {
   "cell_type": "code",
   "execution_count": null,
   "id": "238d1e30",
   "metadata": {},
   "outputs": [],
   "source": [
    "11. What does the sentence import areallyourpetsnamederic do?\n",
    "Ans: import statement imports a module named areallyourpetsnamederic.But a module of this\n",
    "    name doesnt exists in Python"
   ]
  },
  {
   "cell_type": "code",
   "execution_count": null,
   "id": "1a535963",
   "metadata": {},
   "outputs": [],
   "source": [
    "12. If you had a bacon() feature in a spam module, what would you call it after importing spam?\n",
    "Ans: import spam\n",
    "     spam.bacon()"
   ]
  },
  {
   "cell_type": "code",
   "execution_count": null,
   "id": "c6599dea",
   "metadata": {},
   "outputs": [],
   "source": [
    "13. What can you do to save a programme from crashing if it encounters an error?\n",
    "Ans: If an error occurs in a program, \n",
    "    we don't want the program to unexpectedly crash on the user. \n",
    "    Instead, error handling can be used to notify the user of why the error occurred \n",
    "    and gracefully exit the process that caused the error."
   ]
  },
  {
   "cell_type": "code",
   "execution_count": null,
   "id": "44627809",
   "metadata": {},
   "outputs": [],
   "source": [
    "Handling Exceptions in Python\n",
    "Let's start with a simple program to add two numbers in Python. \n",
    "Our program takes in two parameters as input and prints the sum.\n",
    "Here is a Python program to add two numbers:"
   ]
  },
  {
   "cell_type": "code",
   "execution_count": 6,
   "id": "92f75503",
   "metadata": {},
   "outputs": [
    {
     "name": "stdout",
     "output_type": "stream",
     "text": [
      "15\n"
     ]
    }
   ],
   "source": [
    "def addNumbers(a, b):\n",
    "    print (a + b)\n",
    "addNumbers(5, 10)"
   ]
  },
  {
   "cell_type": "code",
   "execution_count": null,
   "id": "2a08b39d",
   "metadata": {},
   "outputs": [],
   "source": [
    "While writing the above program,\n",
    "we didn't really consider the fact that anything can go wrong. \n",
    "What if one of the parameters passed is not a number?"
   ]
  },
  {
   "cell_type": "code",
   "execution_count": 4,
   "id": "d394bbbd",
   "metadata": {
    "scrolled": true
   },
   "outputs": [
    {
     "ename": "TypeError",
     "evalue": "can only concatenate str (not \"int\") to str",
     "output_type": "error",
     "traceback": [
      "\u001b[1;31m---------------------------------------------------------------------------\u001b[0m",
      "\u001b[1;31mTypeError\u001b[0m                                 Traceback (most recent call last)",
      "Cell \u001b[1;32mIn[4], line 3\u001b[0m\n\u001b[0;32m      1\u001b[0m \u001b[38;5;28;01mdef\u001b[39;00m \u001b[38;5;21maddNumbers\u001b[39m(a, b):\n\u001b[0;32m      2\u001b[0m     \u001b[38;5;28mprint\u001b[39m(a \u001b[38;5;241m+\u001b[39m b)\n\u001b[1;32m----> 3\u001b[0m \u001b[43maddNumbers\u001b[49m\u001b[43m(\u001b[49m\u001b[38;5;124;43m\"\u001b[39;49m\u001b[38;5;124;43m5\u001b[39;49m\u001b[38;5;124;43m\"\u001b[39;49m\u001b[43m,\u001b[49m\u001b[43m \u001b[49m\u001b[38;5;241;43m10\u001b[39;49m\u001b[43m)\u001b[49m\n",
      "Cell \u001b[1;32mIn[4], line 2\u001b[0m, in \u001b[0;36maddNumbers\u001b[1;34m(a, b)\u001b[0m\n\u001b[0;32m      1\u001b[0m \u001b[38;5;28;01mdef\u001b[39;00m \u001b[38;5;21maddNumbers\u001b[39m(a, b):\n\u001b[1;32m----> 2\u001b[0m     \u001b[38;5;28mprint\u001b[39m(\u001b[43ma\u001b[49m\u001b[43m \u001b[49m\u001b[38;5;241;43m+\u001b[39;49m\u001b[43m \u001b[49m\u001b[43mb\u001b[49m)\n",
      "\u001b[1;31mTypeError\u001b[0m: can only concatenate str (not \"int\") to str"
     ]
    }
   ],
   "source": [
    "\n",
    "def addNumbers(a, b):\n",
    "    print(a + b)\n",
    "addNumbers(\"5\", 10)"
   ]
  },
  {
   "cell_type": "code",
   "execution_count": null,
   "id": "a533b093",
   "metadata": {},
   "outputs": [],
   "source": [
    "We can handle the above issue by checking if the parameters passed are integers. \n",
    "But that won't solve the issue. What if the code breaks down due to some other reason and\n",
    "causes the program to crash? Working with a program which crashes on being\n",
    "encountered with an error is not a good sight. Even if an unknown error is \n",
    "encountered, the code should be robust enough to handle the crash\n",
    "gracefully and let the user know that something is wrong."
   ]
  },
  {
   "cell_type": "code",
   "execution_count": 9,
   "id": "9239dd81",
   "metadata": {},
   "outputs": [
    {
     "data": {
      "text/plain": [
       "'Error occurred '"
      ]
     },
     "execution_count": 9,
     "metadata": {},
     "output_type": "execute_result"
    }
   ],
   "source": [
    "def addNumbers(a, b):\n",
    "    try:\n",
    "        return a + b\n",
    "    except Exception as e:\n",
    "        return 'Error occurred '\n",
    " \n",
    "addNumbers('', 10)"
   ]
  },
  {
   "cell_type": "code",
   "execution_count": null,
   "id": "88aca34d",
   "metadata": {},
   "outputs": [],
   "source": [
    "14. What is the purpose of the try clause? What is the purpose of the except clause?\n",
    "Ans: \n",
    "The idea of the try-except block is this:\n",
    "try: the code with the exception(s) to catch. \n",
    "    If an exception is raised, it jumps straight into the except block.\n",
    "except: this code is only executed if an exception occured in the try block.\n",
    "    The except block is required with a try block, even if it contains only the pass statement."
   ]
  },
  {
   "cell_type": "code",
   "execution_count": null,
   "id": "43716be7",
   "metadata": {},
   "outputs": [],
   "source": []
  }
 ],
 "metadata": {
  "kernelspec": {
   "display_name": "Python 3 (ipykernel)",
   "language": "python",
   "name": "python3"
  },
  "language_info": {
   "codemirror_mode": {
    "name": "ipython",
    "version": 3
   },
   "file_extension": ".py",
   "mimetype": "text/x-python",
   "name": "python",
   "nbconvert_exporter": "python",
   "pygments_lexer": "ipython3",
   "version": "3.10.9"
  }
 },
 "nbformat": 4,
 "nbformat_minor": 5
}
