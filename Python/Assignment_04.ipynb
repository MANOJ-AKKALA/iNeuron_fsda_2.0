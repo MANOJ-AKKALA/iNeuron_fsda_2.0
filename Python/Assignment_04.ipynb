{
 "cells": [
  {
   "cell_type": "code",
   "execution_count": null,
   "id": "d1de95f6",
   "metadata": {},
   "outputs": [],
   "source": [
    "1. What exactly is []?\n",
    "Ans:  The empty list value, which is a list value that contains no items. "
   ]
  },
  {
   "cell_type": "code",
   "execution_count": null,
   "id": "d2555834",
   "metadata": {},
   "outputs": [],
   "source": [
    "2. In a list of values stored in a variable called spam, how would you assign the value 'hello' as the\n",
    "third value? (Assume [2, 4, 6, 8, 10] are in spam.)\n"
   ]
  },
  {
   "cell_type": "code",
   "execution_count": 1,
   "id": "4671141b",
   "metadata": {},
   "outputs": [
    {
     "name": "stdout",
     "output_type": "stream",
     "text": [
      "[2, 4, 'hello', 8, 10]\n"
     ]
    }
   ],
   "source": [
    "spam = [2, 4, 6, 8, 10]\n",
    "spam[2] = 'hello'\n",
    "print(spam)"
   ]
  },
  {
   "cell_type": "code",
   "execution_count": null,
   "id": "ac247eb5",
   "metadata": {},
   "outputs": [],
   "source": [
    "Lets pretend the spam includes the list['a', 'b', 'c', 'd'] for the next three queries.\n",
    "3. What is the value of spam[int(int('3' * 2) / 11)]?"
   ]
  },
  {
   "cell_type": "code",
   "execution_count": 4,
   "id": "280eec4d",
   "metadata": {
    "scrolled": true
   },
   "outputs": [
    {
     "data": {
      "text/plain": [
       "'d'"
      ]
     },
     "execution_count": 4,
     "metadata": {},
     "output_type": "execute_result"
    }
   ],
   "source": [
    "spam = ['a', 'b', 'c', 'd']\n",
    "spam[int(int('3' * 2) / 11)]"
   ]
  },
  {
   "cell_type": "code",
   "execution_count": 5,
   "id": "495ec742",
   "metadata": {},
   "outputs": [
    {
     "data": {
      "text/plain": [
       "'d'"
      ]
     },
     "execution_count": 5,
     "metadata": {},
     "output_type": "execute_result"
    }
   ],
   "source": [
    "#4. What is the value of spam[-1]?\n",
    "spam[-1]"
   ]
  },
  {
   "cell_type": "code",
   "execution_count": 6,
   "id": "b2e17c53",
   "metadata": {},
   "outputs": [
    {
     "data": {
      "text/plain": [
       "['a', 'b']"
      ]
     },
     "execution_count": 6,
     "metadata": {},
     "output_type": "execute_result"
    }
   ],
   "source": [
    "#5. What is the value of spam[:2]?\n",
    "spam[:2]"
   ]
  },
  {
   "cell_type": "code",
   "execution_count": null,
   "id": "fda92b15",
   "metadata": {},
   "outputs": [],
   "source": [
    "Lets pretend bacon has the list [3.14, 'cat',11, 'cat', True] for the next three questions."
   ]
  },
  {
   "cell_type": "code",
   "execution_count": null,
   "id": "e2f60438",
   "metadata": {},
   "outputs": [],
   "source": [
    "6. What is the value of bacon.index('cat')?"
   ]
  },
  {
   "cell_type": "code",
   "execution_count": 20,
   "id": "8b557e96",
   "metadata": {},
   "outputs": [],
   "source": [
    "bacon = [3.14, 'cat',11, 'cat', True]"
   ]
  },
  {
   "cell_type": "code",
   "execution_count": 21,
   "id": "ad47b9ab",
   "metadata": {
    "scrolled": true
   },
   "outputs": [
    {
     "data": {
      "text/plain": [
       "1"
      ]
     },
     "execution_count": 21,
     "metadata": {},
     "output_type": "execute_result"
    }
   ],
   "source": [
    "bacon.index('cat')"
   ]
  },
  {
   "cell_type": "code",
   "execution_count": null,
   "id": "6ded534d",
   "metadata": {},
   "outputs": [],
   "source": [
    "7. How does bacon.append(99) change the look of the list value in bacon?"
   ]
  },
  {
   "cell_type": "code",
   "execution_count": 22,
   "id": "0d02e329",
   "metadata": {},
   "outputs": [
    {
     "name": "stdout",
     "output_type": "stream",
     "text": [
      "[3.14, 'cat', 11, 'cat', True, 99]\n"
     ]
    }
   ],
   "source": [
    "bacon.append(99)\n",
    "print(bacon)"
   ]
  },
  {
   "cell_type": "code",
   "execution_count": null,
   "id": "a600672b",
   "metadata": {},
   "outputs": [],
   "source": [
    "8. How does bacon.remove(&#39;cat&#39;) change the look of the list in bacon?"
   ]
  },
  {
   "cell_type": "code",
   "execution_count": 23,
   "id": "8b795400",
   "metadata": {},
   "outputs": [
    {
     "name": "stdout",
     "output_type": "stream",
     "text": [
      "[3.14, 'cat', 11, 'cat', True, 99]\n"
     ]
    }
   ],
   "source": [
    "print(bacon)"
   ]
  },
  {
   "cell_type": "code",
   "execution_count": 26,
   "id": "15a83651",
   "metadata": {},
   "outputs": [],
   "source": [
    "bacon.remove('cat')"
   ]
  },
  {
   "cell_type": "code",
   "execution_count": 27,
   "id": "f6eb9c66",
   "metadata": {
    "scrolled": true
   },
   "outputs": [
    {
     "name": "stdout",
     "output_type": "stream",
     "text": [
      "[3.14, 11, True, 99]\n"
     ]
    }
   ],
   "source": [
    "print(bacon)"
   ]
  },
  {
   "cell_type": "code",
   "execution_count": null,
   "id": "a679a271",
   "metadata": {},
   "outputs": [],
   "source": [
    "9. What are the list concatenation and list replication operators?\n",
    "Ans: The operator for list concatenation is +, while the operator for replication is *."
   ]
  },
  {
   "cell_type": "code",
   "execution_count": null,
   "id": "2fe75e38",
   "metadata": {},
   "outputs": [],
   "source": [
    "10. What is difference between the list methods append() and insert()?\n",
    "Ans: The difference between the \n",
    "    two methods is that . append() adds an item to the end of a list, whereas . insert() \n",
    "    inserts and item in a specified position in the list."
   ]
  },
  {
   "cell_type": "code",
   "execution_count": null,
   "id": "48b348e2",
   "metadata": {},
   "outputs": [],
   "source": [
    "11. What are the two methods for removing items from a list?\n",
    "Ans: following are the 4 different methods to accomplish this task −\n",
    "\n",
    "Using remove() method\n",
    "\n",
    "Using del keyword\n",
    "\n",
    "Using pop() method\n",
    "\n",
    "Using clear() method"
   ]
  },
  {
   "cell_type": "code",
   "execution_count": 33,
   "id": "3fb8b074",
   "metadata": {},
   "outputs": [
    {
     "name": "stdout",
     "output_type": "stream",
     "text": [
      "Input List after removing all the items: []\n"
     ]
    }
   ],
   "source": [
    "# input list\n",
    "inputList = ['a', 'b', 'c', 'd', 'e']\n",
    "\n",
    "# Removing all the items from the list\n",
    "inputList.clear()\n",
    "\n",
    "# Printing the result list\n",
    "print(\"Input List after removing all the items:\", inputList)"
   ]
  },
  {
   "cell_type": "code",
   "execution_count": 34,
   "id": "7b44575a",
   "metadata": {},
   "outputs": [
    {
     "name": "stdout",
     "output_type": "stream",
     "text": [
      "['Python', 'Codes', 'hello']\n"
     ]
    }
   ],
   "source": [
    "# input list\n",
    "inputList = ['TutorialsPoint', 'Python', 'Codes', 'hello', 'everyone']\n",
    "\n",
    "# Removing the 'TutorialsPoint' from the list using the pop() method\n",
    "del_item = inputList.pop(0)\n",
    "\n",
    "# Removing the 'everyone' from the list by passing the negative index -1\n",
    "last_del_item = inputList.pop(-1)\n",
    "\n",
    "#final list\n",
    "print(inputList)"
   ]
  },
  {
   "cell_type": "code",
   "execution_count": null,
   "id": "48feacfb",
   "metadata": {},
   "outputs": [],
   "source": [
    "12. Describe how list values and string values are identical.\n",
    "Ans: Both strings and lists have lengths: a string's length is the number of characters in the string;\n",
    "        a list's length is the number of items in the list. Each character in a string\n",
    "        as well as each item in a list has a position, also called an index."
   ]
  },
  {
   "cell_type": "code",
   "execution_count": null,
   "id": "aef1b685",
   "metadata": {},
   "outputs": [],
   "source": [
    "13. Whats the difference between tuples and lists?\n",
    "Ans: The primary difference between tuples and lists is that tuples are immutable\n",
    "    as opposed to lists which are mutable. \n",
    "    Therefore, it is possible to change a list but not a tuple.\n",
    "    The contents of a tuple cannot change once they have been created in Python \n",
    "    due to the immutability of tuples."
   ]
  },
  {
   "cell_type": "code",
   "execution_count": null,
   "id": "ad72db5f",
   "metadata": {},
   "outputs": [],
   "source": [
    "14. How do you type a tuple value that only contains the integer 42?\n",
    "Ans: tuples are written using parentheses (  ) ,\n",
    "    while lists use the square brackets [  ].\n",
    "    (42, ) (The trailing comma is mandatory.) ( 42 , ) "
   ]
  },
  {
   "cell_type": "code",
   "execution_count": null,
   "id": "0dfe88f5",
   "metadata": {},
   "outputs": [],
   "source": [
    "15. How do you get a list values tuple form? How do you get a tuple values list form?\n"
   ]
  },
  {
   "cell_type": "code",
   "execution_count": 40,
   "id": "83b09857",
   "metadata": {},
   "outputs": [
    {
     "name": "stdout",
     "output_type": "stream",
     "text": [
      "('apple', 'mango', 'grapes', 'orange')\n",
      "<class 'tuple'>\n"
     ]
    }
   ],
   "source": [
    "#list values tuple form\n",
    "list_names=['apple', 'mango', 'grapes', 'orange']\n",
    "tuple_names= tuple(list_names)\n",
    "print(tuple_names)\n",
    "print(type(tuple_names))"
   ]
  },
  {
   "cell_type": "code",
   "execution_count": 36,
   "id": "0686135c",
   "metadata": {
    "scrolled": true
   },
   "outputs": [
    {
     "name": "stdout",
     "output_type": "stream",
     "text": [
      "(1, 2, 3, 4, 5, 6)\n"
     ]
    }
   ],
   "source": [
    "\n",
    "tup=(1,2,3,4,5,6)\n",
    "print(tup)"
   ]
  },
  {
   "cell_type": "code",
   "execution_count": 41,
   "id": "5416b8f2",
   "metadata": {},
   "outputs": [
    {
     "name": "stdout",
     "output_type": "stream",
     "text": [
      "[1, 2, 3, 4, 5, 6]\n",
      "<class 'list'>\n"
     ]
    }
   ],
   "source": [
    "#tuple values list form\n",
    "lis = list(tup)\n",
    "print(lis)\n",
    "print(type(lis))"
   ]
  },
  {
   "cell_type": "code",
   "execution_count": null,
   "id": "62c6970e",
   "metadata": {},
   "outputs": [],
   "source": [
    "16. Variables that \"contain\" list values are not necessarily lists themselves. Instead, what do they\n",
    "contain?\n",
    "Ans:  variables that \"contain\" list values are actually references to list objects. \n",
    "    This means that the variable doesn't store the list values directly,\n",
    "    but rather stores a reference to the memory location where the list values are stored."
   ]
  },
  {
   "cell_type": "code",
   "execution_count": null,
   "id": "793ec01b",
   "metadata": {},
   "outputs": [],
   "source": [
    "17. How do you distinguish between copy.copy() and copy.deepcopy()?\n",
    "Ans:copy() creates a new object with the same contents as the original object,\n",
    "    but any nested objects within the original object are still referenced to the original object.\n",
    "    \n",
    "    deepcopy() creates a new object with the same contents as the original object, \n",
    "    including any nested objects, which are also deeply copied."
   ]
  },
  {
   "cell_type": "code",
   "execution_count": null,
   "id": "ea82fc38",
   "metadata": {},
   "outputs": [],
   "source": []
  }
 ],
 "metadata": {
  "kernelspec": {
   "display_name": "Python 3 (ipykernel)",
   "language": "python",
   "name": "python3"
  },
  "language_info": {
   "codemirror_mode": {
    "name": "ipython",
    "version": 3
   },
   "file_extension": ".py",
   "mimetype": "text/x-python",
   "name": "python",
   "nbconvert_exporter": "python",
   "pygments_lexer": "ipython3",
   "version": "3.10.9"
  }
 },
 "nbformat": 4,
 "nbformat_minor": 5
}
